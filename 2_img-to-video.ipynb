{
 "cells": [
  {
   "cell_type": "code",
   "execution_count": 5,
   "metadata": {},
   "outputs": [],
   "source": [
    "# https://blog.csdn.net/weixin_43718675/article/details/102026385\n",
    "\n",
    "import cv2\n",
    "import numpy as np\n",
    "import os\n",
    "os.chdir(\"D:\\\\Python\\\\Mediapipe\\\\trainset00\\\\black\")"
   ]
  },
  {
   "cell_type": "code",
   "execution_count": 6,
   "metadata": {},
   "outputs": [
    {
     "name": "stdout",
     "output_type": "stream",
     "text": [
      "(1080, 1080)\n",
      "end\n"
     ]
    }
   ],
   "source": [
    "# image to video\n",
    "\n",
    "##读取零散图片(上面分解的图片)，并将其合成视频\n",
    "img = cv2.imread('black-image1.jpg')\n",
    "imginfo = img.shape\n",
    "size = (imginfo[1],imginfo[0])  #与默认不同，opencv使用 height在前，width在后，所有需要自己重新排序\n",
    "print(size)\n",
    "\n",
    "#创建写入对象，包括 新建视频名称，每秒钟多少帧图片 ,size大小\n",
    "videoWrite = cv2.VideoWriter(\"D:\\\\Python\\\\Mediapipe\\\\trainset00\\\\black.mp4\",-1,50,size) \n",
    "\n",
    "for i in range(1,646):\n",
    "    filename = 'black-image'+str(i)+'.jpg'\n",
    "    img = cv2.imread(filename,1)  #1 表示彩图，0表示灰度图  \n",
    "    \n",
    "    #直接写入图片对应的数据\n",
    "    videoWrite.write(img)  \n",
    "\n",
    "videoWrite.release() #关闭写入对象\n",
    "print('end')\n"
   ]
  }
 ],
 "metadata": {
  "kernelspec": {
   "display_name": "Python 3.9.13 ('base')",
   "language": "python",
   "name": "python3"
  },
  "language_info": {
   "codemirror_mode": {
    "name": "ipython",
    "version": 3
   },
   "file_extension": ".py",
   "mimetype": "text/x-python",
   "name": "python",
   "nbconvert_exporter": "python",
   "pygments_lexer": "ipython3",
   "version": "3.9.13 (main, Aug 25 2022, 23:51:50) [MSC v.1916 64 bit (AMD64)]"
  },
  "orig_nbformat": 4,
  "vscode": {
   "interpreter": {
    "hash": "d04ced9d2f3d780184266d6c04c38b10d0bc5dc91923fa3055e4cade559214a7"
   }
  }
 },
 "nbformat": 4,
 "nbformat_minor": 2
}

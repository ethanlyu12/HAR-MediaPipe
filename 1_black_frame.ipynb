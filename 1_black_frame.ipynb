{
 "cells": [
  {
   "cell_type": "code",
   "execution_count": 1,
   "metadata": {},
   "outputs": [],
   "source": [
    "# https://blog.csdn.net/lzzzzzzm/article/details/118698069\n",
    "# https://bbs.huaweicloud.com/blogs/172075\n",
    "# https://www.jb51.net/article/233236.htm\n",
    "\n",
    "# https://codeantenna.com/a/MrYojms0Nb\n",
    "\n",
    "import cv2\n",
    "import matplotlib.pyplot as plt\n",
    "import mediapipe as mp\n",
    "import numpy as np\n",
    "import os\n",
    "import datetime\n",
    "\n",
    "\n",
    "def read_img(img):\n",
    "    '''BGR->RGB'''\n",
    "    img_rgb=cv2.cvtColor(img,cv2.COLOR_BGR2RGB)\n",
    "    plt.imshow(img_rgb)\n",
    "    plt.show()\n",
    "\n",
    "mp_pose=mp.solutions.pose\n",
    "mp_drawing=mp.solutions.drawing_utils\n",
    "\n",
    "#参数：1、颜色，2、线条粗细，3、点的半径\n",
    "DrawingSpec_point = mp_drawing.DrawingSpec((0, 255, 0), 5, 5)\n",
    "DrawingSpec_line = mp_drawing.DrawingSpec((0, 0, 255), 50, 5)\n",
    "\n",
    "#导入模型\n",
    "pose=mp_pose.Pose(static_image_mode=True,\n",
    "                  model_complexity=1,\n",
    "                  smooth_landmarks=True,\n",
    "                  enable_segmentation=True,\n",
    "                  min_detection_confidence=0.5,\n",
    "                  min_tracking_confidence=0.5)\n"
   ]
  },
  {
   "cell_type": "code",
   "execution_count": 2,
   "metadata": {},
   "outputs": [
    {
     "name": "stdout",
     "output_type": "stream",
     "text": [
      "end\n"
     ]
    }
   ],
   "source": [
    "data_dir = \"D:\\\\Python\\\\mediapipe\\\\trainset00\\\\origin\\\\\"\n",
    "for root,dirs,files in os.walk(data_dir):\n",
    "    for name in files:\n",
    "\n",
    "        img_dir = os.path.join(root,name)\n",
    "        img_name = os.path.basename(img_dir)    # 导出原始名字用于black命名\n",
    "        img = cv2.imread(img_dir)\n",
    "\n",
    "        #img=\"D:\\\\Python\\\\mediapipe\\\\trainset00\\\\image1.jpg\"\n",
    "        #imgname=img.split('\\\\')[-1]\n",
    "        #print(imgname)\n",
    "        #img=cv2.imread(img)\n",
    "\n",
    "        imgRGB=cv2.cvtColor(img,cv2.COLOR_BGR2RGB)\n",
    "        #read_img(img)\n",
    "\n",
    "        blackie = np.zeros(img.shape)\n",
    "        results = pose.process(imgRGB)\n",
    "        if results.pose_landmarks:\n",
    "            mp_drawing.draw_landmarks(blackie,results.pose_landmarks,mp_pose.POSE_CONNECTIONS, DrawingSpec_point, DrawingSpec_line)\n",
    "            landmarks = results.pose_landmarks.landmark\n",
    "\n",
    "        #cv2.imshow(\"blackie\",blackie)\n",
    "        #cv2.waitKey()\n",
    "        #cv2.destroyAllWindows()\n",
    "        \n",
    "    #for i in range (1,648):\n",
    "        #img_datename = datetime.datetime.now().strftime(\"%Y-%m-%d%H-%M-%S-%f\")\n",
    "        #cv2.imwrite(\"D:\\\\Python\\\\mediapipe\\\\trainset00\\\\black\\\\\"+'black-image'+str(img_datename)+'.jpg',blackie) 按日期时间输出\n",
    "        cv2.imwrite(\"D:\\\\Python\\\\mediapipe\\\\trainset00\\\\black\\\\\"+'black-'+str(img_name),blackie)\n",
    "\n",
    "print('end')\n",
    "\n",
    "# 未完成......（遍历读取和保存   img_name怎么设置比较好？？）   好像完成了"
   ]
  }
 ],
 "metadata": {
  "kernelspec": {
   "display_name": "Python 3.9.13 ('base')",
   "language": "python",
   "name": "python3"
  },
  "language_info": {
   "codemirror_mode": {
    "name": "ipython",
    "version": 3
   },
   "file_extension": ".py",
   "mimetype": "text/x-python",
   "name": "python",
   "nbconvert_exporter": "python",
   "pygments_lexer": "ipython3",
   "version": "3.9.13 (main, Aug 25 2022, 23:51:50) [MSC v.1916 64 bit (AMD64)]"
  },
  "orig_nbformat": 4,
  "vscode": {
   "interpreter": {
    "hash": "d04ced9d2f3d780184266d6c04c38b10d0bc5dc91923fa3055e4cade559214a7"
   }
  }
 },
 "nbformat": 4,
 "nbformat_minor": 2
}

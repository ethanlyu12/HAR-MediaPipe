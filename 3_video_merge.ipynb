{
 "cells": [
  {
   "cell_type": "code",
   "execution_count": 4,
   "metadata": {},
   "outputs": [
    {
     "name": "stdout",
     "output_type": "stream",
     "text": [
      "Moviepy - Building video D:\\Python\\mediapipe\\trainset00\\merge_squat.mp4.\n",
      "Moviepy - Writing video D:\\Python\\mediapipe\\trainset00\\merge_squat.mp4\n",
      "\n"
     ]
    },
    {
     "name": "stderr",
     "output_type": "stream",
     "text": [
      "                                                              \r"
     ]
    },
    {
     "name": "stdout",
     "output_type": "stream",
     "text": [
      "Moviepy - Done !\n",
      "Moviepy - video ready D:\\Python\\mediapipe\\trainset00\\merge_squat.mp4\n"
     ]
    }
   ],
   "source": [
    "# https://blog.csdn.net/LaoYuanPython/article/details/114765823 合并\n",
    "\n",
    "from  moviepy.editor import *\n",
    "\n",
    "clips = [VideoFileClip(\"D:\\\\Python\\\\mediapipe\\\\trainset00\\\\squat.mp4\"),VideoFileClip(\"D:\\\\Python\\\\mediapipe\\\\trainset00\\\\black.mp4\")]\n",
    "video = clips_array([clips])\n",
    "video.write_videofile(\"D:\\\\Python\\\\mediapipe\\\\trainset00\\\\merge_squat.mp4\")"
   ]
  },
  {
   "cell_type": "code",
   "execution_count": 5,
   "metadata": {},
   "outputs": [
    {
     "name": "stdout",
     "output_type": "stream",
     "text": [
      "Moviepy - Building video D:\\Python\\mediapipe\\trainset00\\img-in-img_squat.mp4.\n",
      "Moviepy - Writing video D:\\Python\\mediapipe\\trainset00\\img-in-img_squat.mp4\n",
      "\n"
     ]
    },
    {
     "name": "stderr",
     "output_type": "stream",
     "text": [
      "                                                              \r"
     ]
    },
    {
     "name": "stdout",
     "output_type": "stream",
     "text": [
      "Moviepy - Done !\n",
      "Moviepy - video ready D:\\Python\\mediapipe\\trainset00\\img-in-img_squat.mp4\n"
     ]
    }
   ],
   "source": [
    "# https://blog.csdn.net/LaoYuanPython/article/details/114807364 画中画\n",
    "\n",
    "from  moviepy.editor import *\n",
    "\n",
    "clip1 = VideoFileClip(\"D:\\\\Python\\\\mediapipe\\\\trainset00\\\\squat.mp4\")\n",
    "size = (int(clip1.size[0]/40.0)*10,int(clip1.size[1]/40.0)*10)\n",
    "clip2 = VideoFileClip(\"D:\\\\Python\\\\mediapipe\\\\trainset00\\\\black.mp4\").resize(size).set_position((clip1.size[0]-size[0],0))\n",
    "CompositeVideoClip([clip1,clip2]).write_videofile(\"D:\\\\Python\\\\mediapipe\\\\trainset00\\\\img-in-img_squat.mp4\")\n"
   ]
  }
 ],
 "metadata": {
  "kernelspec": {
   "display_name": "Python 3.9.13 ('base')",
   "language": "python",
   "name": "python3"
  },
  "language_info": {
   "codemirror_mode": {
    "name": "ipython",
    "version": 3
   },
   "file_extension": ".py",
   "mimetype": "text/x-python",
   "name": "python",
   "nbconvert_exporter": "python",
   "pygments_lexer": "ipython3",
   "version": "3.9.13 (main, Aug 25 2022, 23:51:50) [MSC v.1916 64 bit (AMD64)]"
  },
  "orig_nbformat": 4,
  "vscode": {
   "interpreter": {
    "hash": "d04ced9d2f3d780184266d6c04c38b10d0bc5dc91923fa3055e4cade559214a7"
   }
  }
 },
 "nbformat": 4,
 "nbformat_minor": 2
}

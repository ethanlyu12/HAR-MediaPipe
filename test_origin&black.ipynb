{
 "cells": [
  {
   "cell_type": "code",
   "execution_count": null,
   "metadata": {},
   "outputs": [],
   "source": [
    "# https://codeantenna.com/a/MrYojms0Nb"
   ]
  },
  {
   "cell_type": "markdown",
   "metadata": {},
   "source": [
    "Origin"
   ]
  },
  {
   "cell_type": "code",
   "execution_count": null,
   "metadata": {},
   "outputs": [],
   "source": [
    "import cv2\n",
    "import mediapipe as mp\n",
    "\n",
    "#mp.solutions.drawing_utils用于绘制\n",
    "mp_drawing = mp.solutions.drawing_utils\n",
    "\n",
    "#参数：1、颜色，2、线条粗细，3、点的半径\n",
    "DrawingSpec_point = mp_drawing.DrawingSpec((0, 255, 0), 2, 2)\n",
    "DrawingSpec_line = mp_drawing.DrawingSpec((0, 0, 255), 10, 2)\n",
    "\n",
    "#mp.solutions.pose，是人的骨架\n",
    "mp_pose = mp.solutions.pose\n",
    "\n",
    "#参数：1、是否检测静态图片，2、姿态模型的复杂度，3、结果看起来平滑（用于video有效），4、检测阈值，5、跟踪阈值\n",
    "pose_mode = mp_pose.Pose(static_image_mode=True)\n",
    "\n",
    "file = \"D:\\\\Python\\\\mediapipe\\\\trainset00\\\\image1.jpg\"\n",
    "image = cv2.imread(file)\n",
    "image_hight, image_width, _ = image.shape\n",
    "image1 = cv2.cvtColor(image, cv2.COLOR_BGR2RGB)\n",
    "\n",
    "# 处理RGB图像\n",
    "results = pose_mode.process(image1)\n",
    "\n",
    "'''\n",
    "mp_pose.PoseLandmark类中共33个人体骨骼点\n",
    "'''\n",
    "if results.pose_landmarks:\n",
    "  print(\n",
    "      f'Nose coordinates: ('\n",
    "      f'{results.pose_landmarks.landmark[mp_pose.PoseLandmark.NOSE].x * image_width}, '\n",
    "      f'{results.pose_landmarks.landmark[mp_pose.PoseLandmark.NOSE].y * image_hight})'\n",
    "  )\n",
    "\n",
    "#绘制\n",
    "mp_drawing.draw_landmarks(\n",
    "    image, results.pose_landmarks, mp_pose.POSE_CONNECTIONS, DrawingSpec_point, DrawingSpec_line)\n",
    "\n",
    "#cv2.imshow('image',image)\n",
    "#cv2.waitKey(0)\n",
    "cv2.imwrite('image-pose.jpg', image)\n",
    "pose_mode.close()"
   ]
  },
  {
   "cell_type": "markdown",
   "metadata": {},
   "source": [
    "Blackie"
   ]
  },
  {
   "cell_type": "code",
   "execution_count": null,
   "metadata": {},
   "outputs": [],
   "source": [
    "import cv2\n",
    "import mediapipe as mp\n",
    "import numpy as np\n",
    "import os\n",
    "import datetime\n",
    "\n",
    "mp_drawing = mp.solutions.drawing_utils\n",
    "\n",
    "#参数：1、颜色，2、线条粗细，3、点的半径\n",
    "DrawingSpec_point = mp_drawing.DrawingSpec((0, 255, 0), 2, 2)\n",
    "DrawingSpec_line = mp_drawing.DrawingSpec((0, 0, 255), 10, 2)\n",
    "\n",
    "mp_pose = mp.solutions.pose\n",
    "\n",
    "#参数：1、是否检测静态图片，2、姿态模型的复杂度，3、结果看起来平滑（用于video有效），4、检测阈值，5、跟踪阈值\n",
    "pose = mp_pose.Pose(static_image_mode=True)\n",
    "\n"
   ]
  },
  {
   "cell_type": "code",
   "execution_count": null,
   "metadata": {},
   "outputs": [],
   "source": [
    "data_dir = \"D:\\\\Python\\\\mediapipe\\\\trainset00\\\\origin\\\\\"\n",
    "for root,dirs,files in os.walk(data_dir):\n",
    "    for name in files:\n",
    "        img_dir = os.path.join(root,name)\n",
    "        img = cv2.imread(img_dir)\n",
    "\n",
    "        \n",
    "        imgRGB = cv2.cvtColor(img, cv2.COLOR_BGR2RGB)\n",
    "        # 创建黑底图片\n",
    "        blackie = np.zeros(img.shape)\n",
    "        # 处理RGB图像\n",
    "        results = pose.process(imgRGB)\n",
    "\n",
    "\n",
    "        #绘制\n",
    "        if results.pose_landmarks:\n",
    "            mp_drawing.draw_landmarks(blackie, results.pose_landmarks, mp_pose.POSE_CONNECTIONS, DrawingSpec_point, DrawingSpec_line)\n",
    "            landmarks = results.pose_landmarks.landmark\n",
    "\n",
    "        #cv2.imshow('image',image)\n",
    "        #cv2.waitKey(0)\n",
    "        #cv2.imwrite('image-pose.jpg', blackie)\n",
    "        img_name = datetime.datetime.now().strftime(\"%Y-%m-%d%H-%M-%S-%f\")\n",
    "        cv2.imwrite(\"D:\\\\Python\\\\Mediapipe\\\\trainset00\\\\black\\\\\"+str(img_dir)+'.jpg',blackie)\n",
    "        pose.close()\n",
    "\n"
   ]
  },
  {
   "cell_type": "code",
   "execution_count": null,
   "metadata": {},
   "outputs": [],
   "source": []
  },
  {
   "cell_type": "code",
   "execution_count": null,
   "metadata": {},
   "outputs": [],
   "source": [
    "# 没用de修改文件名\n",
    "# https://blog.csdn.net/zhn3648/article/details/126755517\n",
    "\n",
    "#批量修改文件名，默认操作为将图片按1，2，3，，，顺序重命名\n",
    " \n",
    "import os\n",
    " \n",
    "path_in = \"D:\\\\Python\\\\mediapipe\\\\trainset00\\\\black\"          #待批量重命名的文件夹\n",
    "class_name = \".jpg\"     #重命名后的文件名后缀\n",
    " \n",
    "file_in = os.listdir(path_in)        #返回文件夹包含的所有文件名\n",
    "num_file_in = len(file_in)          #获取文件数目\n",
    "print(file_in , num_file_in)         #输出修改前的文件名\n",
    " \n",
    "for i in range(0,num_file_in):\n",
    "     t = str(i +1)\n",
    "     new_name = os.rename(path_in+\"\\\\\"+file_in[i],path_in+\"\\\\\"+'black-image'+t+class_name)        #重命名文件名\n",
    " \n",
    "file_out = os.listdir(path_in)\n",
    "print(file_out)         #输出修改后的结果"
   ]
  }
 ],
 "metadata": {
  "kernelspec": {
   "display_name": "Python 3.9.13 ('base')",
   "language": "python",
   "name": "python3"
  },
  "language_info": {
   "codemirror_mode": {
    "name": "ipython",
    "version": 3
   },
   "file_extension": ".py",
   "mimetype": "text/x-python",
   "name": "python",
   "nbconvert_exporter": "python",
   "pygments_lexer": "ipython3",
   "version": "3.9.13 (main, Aug 25 2022, 23:51:50) [MSC v.1916 64 bit (AMD64)]"
  },
  "orig_nbformat": 4,
  "vscode": {
   "interpreter": {
    "hash": "d04ced9d2f3d780184266d6c04c38b10d0bc5dc91923fa3055e4cade559214a7"
   }
  }
 },
 "nbformat": 4,
 "nbformat_minor": 2
}
